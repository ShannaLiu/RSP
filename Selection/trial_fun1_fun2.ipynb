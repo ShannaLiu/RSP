{
 "cells": [
  {
   "cell_type": "markdown",
   "metadata": {},
   "source": [
    "Note: This experiment is simply to test if the func1 and func2 works, doesn't have any meaning since T is only a random matrix"
   ]
  },
  {
   "cell_type": "code",
   "execution_count": 1,
   "metadata": {},
   "outputs": [],
   "source": [
    "import torch\n",
    "from op_iter import *\n",
    "from op_torch import *"
   ]
  },
  {
   "cell_type": "code",
   "execution_count": 2,
   "metadata": {},
   "outputs": [],
   "source": [
    "X = torch.randn(10,2)\n",
    "T = torch.randn(10,10)\n",
    "alpha = lamda = 1"
   ]
  },
  {
   "cell_type": "code",
   "execution_count": 3,
   "metadata": {},
   "outputs": [
    {
     "name": "stdout",
     "output_type": "stream",
     "text": [
      "tensor(18.8059, grad_fn=<AddBackward0>)\n"
     ]
    }
   ],
   "source": [
    "W, loss = CUR_torch_solver(X, T, alpha, lamda, method='Lap', epochs=1000, learning_rate=1e-5, print=False)\n",
    "print(loss)"
   ]
  },
  {
   "cell_type": "code",
   "execution_count": 4,
   "metadata": {},
   "outputs": [
    {
     "name": "stdout",
     "output_type": "stream",
     "text": [
      "tensor(20.2694, grad_fn=<AddBackward0>)\n"
     ]
    }
   ],
   "source": [
    "W, loss = CUR_torch_solver(X, T, alpha, lamda, method='dist', epochs=1000, learning_rate=1e-5, print=False)\n",
    "print(loss)"
   ]
  },
  {
   "cell_type": "code",
   "execution_count": 5,
   "metadata": {},
   "outputs": [
    {
     "name": "stdout",
     "output_type": "stream",
     "text": [
      "tensor(16.7387)\n",
      "4851.637308040379 4851.637308040379\n"
     ]
    }
   ],
   "source": [
    "epsilon = 0.01\n",
    "W, W_tilde, W_hat, loss, rho_1, rho_2 = CUR_iter_solver(X=X, T=T, alpha=alpha, lamda=lamda, epsilon=epsilon, \\\n",
    "    initial_rho=1e-6, max_rho=1e10, tau=1.1, set_seed=False)\n",
    "print(loss)\n",
    "print(rho_1, rho_2)"
   ]
  },
  {
   "cell_type": "code",
   "execution_count": null,
   "metadata": {},
   "outputs": [],
   "source": []
  },
  {
   "cell_type": "code",
   "execution_count": null,
   "metadata": {},
   "outputs": [],
   "source": []
  },
  {
   "cell_type": "code",
   "execution_count": null,
   "metadata": {},
   "outputs": [],
   "source": []
  },
  {
   "cell_type": "code",
   "execution_count": 6,
   "metadata": {},
   "outputs": [],
   "source": [
    "X = torch.randn(20,5)\n",
    "T = torch.randn(20,20)\n",
    "alpha = lamda = 1"
   ]
  },
  {
   "cell_type": "code",
   "execution_count": 7,
   "metadata": {},
   "outputs": [
    {
     "name": "stdout",
     "output_type": "stream",
     "text": [
      "tensor(89.5759, grad_fn=<AddBackward0>)\n"
     ]
    }
   ],
   "source": [
    "W, loss = CUR_torch_solver(X, T, alpha, lamda, method='dist', epochs=1000, learning_rate=1e-5, print=False)\n",
    "print(loss)"
   ]
  },
  {
   "cell_type": "code",
   "execution_count": 8,
   "metadata": {},
   "outputs": [
    {
     "name": "stdout",
     "output_type": "stream",
     "text": [
      "tensor(88.1586)\n",
      "102436.38697138807 102436.38697138807\n"
     ]
    }
   ],
   "source": [
    "epsilon = 0.01\n",
    "W, W_tilde, W_hat, loss, rho_1, rho_2 = CUR_iter_solver(X=X, T=T, alpha=alpha, lamda=lamda, epsilon=epsilon, \\\n",
    "    initial_rho=1e-6, max_rho=1e10, tau=1.1, set_seed=False)\n",
    "print(loss)\n",
    "print(rho_1, rho_2)"
   ]
  },
  {
   "cell_type": "code",
   "execution_count": null,
   "metadata": {},
   "outputs": [],
   "source": []
  },
  {
   "cell_type": "code",
   "execution_count": null,
   "metadata": {},
   "outputs": [],
   "source": []
  },
  {
   "cell_type": "code",
   "execution_count": 9,
   "metadata": {},
   "outputs": [],
   "source": [
    "X = torch.randn(100,5)\n",
    "T = torch.randn(100,100)\n",
    "alpha = lamda = 1"
   ]
  },
  {
   "cell_type": "code",
   "execution_count": 10,
   "metadata": {},
   "outputs": [
    {
     "name": "stdout",
     "output_type": "stream",
     "text": [
      "tensor(308.2523, grad_fn=<AddBackward0>)\n"
     ]
    }
   ],
   "source": [
    "W, loss = CUR_torch_solver(X, T, alpha, lamda, method='dist', epochs=1000, learning_rate=1e-5, print=False)\n",
    "print(loss)"
   ]
  },
  {
   "cell_type": "code",
   "execution_count": 11,
   "metadata": {},
   "outputs": [
    {
     "name": "stdout",
     "output_type": "stream",
     "text": [
      "tensor(480.1949)\n",
      "2162819.0051144334 2162819.0051144334\n"
     ]
    }
   ],
   "source": [
    "epsilon = 0.01\n",
    "W, W_tilde, W_hat, loss, rho_1, rho_2 = CUR_iter_solver(X=X, T=T, alpha=alpha, lamda=lamda, epsilon=epsilon, \\\n",
    "    initial_rho=1e-6, max_rho=1e10, tau=1.1, set_seed=False)\n",
    "print(loss)\n",
    "print(rho_1, rho_2)"
   ]
  },
  {
   "cell_type": "code",
   "execution_count": 12,
   "metadata": {},
   "outputs": [
    {
     "name": "stdout",
     "output_type": "stream",
     "text": [
      "tensor(480.1167)\n",
      "1000000.0 1000000.0\n"
     ]
    }
   ],
   "source": [
    "epsilon = 0.01\n",
    "W, W_tilde, W_hat, loss, rho_1, rho_2 = CUR_iter_solver(X=X, T=T, alpha=alpha, lamda=lamda, epsilon=epsilon, \\\n",
    "    initial_rho=1e-6, max_rho=1e6, tau=1.1, set_seed=False)\n",
    "print(loss)\n",
    "print(rho_1, rho_2)"
   ]
  },
  {
   "cell_type": "code",
   "execution_count": 13,
   "metadata": {},
   "outputs": [
    {
     "name": "stdout",
     "output_type": "stream",
     "text": [
      "tensor(361.0264)\n",
      "1000.0 1000.0\n"
     ]
    }
   ],
   "source": [
    "epsilon = 0.01\n",
    "W, W_tilde, W_hat, loss, rho_1, rho_2 = CUR_iter_solver(X=X, T=T, alpha=alpha, lamda=lamda, epsilon=epsilon, \\\n",
    "    initial_rho=1e-6, max_rho=1e3, tau=1.1, set_seed=False)\n",
    "print(loss)\n",
    "print(rho_1, rho_2)"
   ]
  },
  {
   "cell_type": "code",
   "execution_count": 14,
   "metadata": {},
   "outputs": [
    {
     "ename": "KeyboardInterrupt",
     "evalue": "",
     "output_type": "error",
     "traceback": [
      "\u001b[0;31m---------------------------------------------------------------------------\u001b[0m",
      "\u001b[0;31mKeyboardInterrupt\u001b[0m                         Traceback (most recent call last)",
      "\u001b[0;32m/var/folders/v7/6y4d148j17v1f9cfgqn0t_ym0000gn/T/ipykernel_17233/3719271276.py\u001b[0m in \u001b[0;36m<module>\u001b[0;34m\u001b[0m\n\u001b[1;32m      1\u001b[0m \u001b[0mepsilon\u001b[0m \u001b[0;34m=\u001b[0m \u001b[0;36m0.01\u001b[0m\u001b[0;34m\u001b[0m\u001b[0;34m\u001b[0m\u001b[0m\n\u001b[0;32m----> 2\u001b[0;31m W, W_tilde, W_hat, loss, rho_1, rho_2 = CUR_iter_solver(X=X, T=T, alpha=alpha, lamda=lamda, epsilon=epsilon, \\\n\u001b[0m\u001b[1;32m      3\u001b[0m     initial_rho=1e-6, max_rho=5e2, tau=1.1, set_seed=False)\n\u001b[1;32m      4\u001b[0m \u001b[0mprint\u001b[0m\u001b[0;34m(\u001b[0m\u001b[0mloss\u001b[0m\u001b[0;34m)\u001b[0m\u001b[0;34m\u001b[0m\u001b[0;34m\u001b[0m\u001b[0m\n\u001b[1;32m      5\u001b[0m \u001b[0mprint\u001b[0m\u001b[0;34m(\u001b[0m\u001b[0mrho_1\u001b[0m\u001b[0;34m,\u001b[0m \u001b[0mrho_2\u001b[0m\u001b[0;34m)\u001b[0m\u001b[0;34m\u001b[0m\u001b[0;34m\u001b[0m\u001b[0m\n",
      "\u001b[0;32m~/Documents/Research in second year/Experiments/RSP/Selection/op_iter.py\u001b[0m in \u001b[0;36mCUR_iter_solver\u001b[0;34m(X, T, alpha, lamda, epsilon, initial_rho, max_rho, tau, set_seed)\u001b[0m\n\u001b[1;32m     28\u001b[0m         \u001b[0mA\u001b[0m \u001b[0;34m=\u001b[0m \u001b[0;36m2\u001b[0m\u001b[0;34m*\u001b[0m\u001b[0mXXT\u001b[0m \u001b[0;34m+\u001b[0m \u001b[0;34m(\u001b[0m\u001b[0mrho_1\u001b[0m \u001b[0;34m+\u001b[0m \u001b[0mrho_2\u001b[0m\u001b[0;34m)\u001b[0m \u001b[0;34m*\u001b[0m \u001b[0mtorch\u001b[0m\u001b[0;34m.\u001b[0m\u001b[0mdiag\u001b[0m\u001b[0;34m(\u001b[0m\u001b[0mtorch\u001b[0m\u001b[0;34m.\u001b[0m\u001b[0mones\u001b[0m\u001b[0;34m(\u001b[0m\u001b[0mN\u001b[0m\u001b[0;34m)\u001b[0m\u001b[0;34m)\u001b[0m\u001b[0;34m\u001b[0m\u001b[0;34m\u001b[0m\u001b[0m\n\u001b[1;32m     29\u001b[0m         \u001b[0mA_inverse\u001b[0m \u001b[0;34m=\u001b[0m \u001b[0mA\u001b[0m\u001b[0;34m.\u001b[0m\u001b[0minverse\u001b[0m\u001b[0;34m(\u001b[0m\u001b[0;34m)\u001b[0m\u001b[0;34m\u001b[0m\u001b[0;34m\u001b[0m\u001b[0m\n\u001b[0;32m---> 30\u001b[0;31m         \u001b[0mW\u001b[0m \u001b[0;34m=\u001b[0m \u001b[0mupdate_W\u001b[0m\u001b[0;34m(\u001b[0m\u001b[0mA_inverse\u001b[0m\u001b[0;34m,\u001b[0m \u001b[0mXXT\u001b[0m\u001b[0;34m,\u001b[0m \u001b[0mrho_1\u001b[0m\u001b[0;34m,\u001b[0m \u001b[0mrho_2\u001b[0m\u001b[0;34m,\u001b[0m \u001b[0mW_tilde\u001b[0m\u001b[0;34m,\u001b[0m \u001b[0mLamda_1\u001b[0m\u001b[0;34m,\u001b[0m \u001b[0mW_hat\u001b[0m\u001b[0;34m,\u001b[0m \u001b[0mLamda_2\u001b[0m\u001b[0;34m)\u001b[0m\u001b[0;34m\u001b[0m\u001b[0;34m\u001b[0m\u001b[0m\n\u001b[0m\u001b[1;32m     31\u001b[0m         \u001b[0mW_tilde\u001b[0m \u001b[0;34m=\u001b[0m \u001b[0mupdate_W_tilde\u001b[0m\u001b[0;34m(\u001b[0m\u001b[0mW\u001b[0m\u001b[0;34m,\u001b[0m \u001b[0malpha\u001b[0m\u001b[0;34m,\u001b[0m \u001b[0mrho_1\u001b[0m\u001b[0;34m,\u001b[0m \u001b[0mLamda_1\u001b[0m\u001b[0;34m)\u001b[0m\u001b[0;34m\u001b[0m\u001b[0;34m\u001b[0m\u001b[0m\n\u001b[1;32m     32\u001b[0m         \u001b[0mW_hat_new\u001b[0m \u001b[0;34m=\u001b[0m \u001b[0mupdate_W_hat\u001b[0m\u001b[0;34m(\u001b[0m\u001b[0mT\u001b[0m\u001b[0;34m,\u001b[0m \u001b[0mlamda\u001b[0m\u001b[0;34m,\u001b[0m \u001b[0mW\u001b[0m\u001b[0;34m,\u001b[0m \u001b[0mrho_2\u001b[0m\u001b[0;34m,\u001b[0m \u001b[0mLamda_2\u001b[0m\u001b[0;34m)\u001b[0m\u001b[0;34m\u001b[0m\u001b[0;34m\u001b[0m\u001b[0m\n",
      "\u001b[0;32m~/Documents/Research in second year/Experiments/RSP/Selection/op_iter.py\u001b[0m in \u001b[0;36mupdate_W\u001b[0;34m(A_inverse, XXT, rho_1, rho_2, W_tilde, Lamda_1, W_hat, Lamda_2)\u001b[0m\n\u001b[1;32m     55\u001b[0m \u001b[0;34m\u001b[0m\u001b[0m\n\u001b[1;32m     56\u001b[0m \u001b[0;32mdef\u001b[0m \u001b[0mupdate_W\u001b[0m\u001b[0;34m(\u001b[0m\u001b[0mA_inverse\u001b[0m\u001b[0;34m,\u001b[0m \u001b[0mXXT\u001b[0m\u001b[0;34m,\u001b[0m \u001b[0mrho_1\u001b[0m\u001b[0;34m,\u001b[0m \u001b[0mrho_2\u001b[0m\u001b[0;34m,\u001b[0m \u001b[0mW_tilde\u001b[0m\u001b[0;34m,\u001b[0m \u001b[0mLamda_1\u001b[0m\u001b[0;34m,\u001b[0m \u001b[0mW_hat\u001b[0m\u001b[0;34m,\u001b[0m \u001b[0mLamda_2\u001b[0m\u001b[0;34m)\u001b[0m\u001b[0;34m:\u001b[0m\u001b[0;34m\u001b[0m\u001b[0;34m\u001b[0m\u001b[0m\n\u001b[0;32m---> 57\u001b[0;31m     \u001b[0mH\u001b[0m \u001b[0;34m=\u001b[0m \u001b[0;36m2\u001b[0m\u001b[0;34m*\u001b[0m\u001b[0mXXT\u001b[0m \u001b[0;34m+\u001b[0m \u001b[0mrho_1\u001b[0m \u001b[0;34m*\u001b[0m \u001b[0;34m(\u001b[0m\u001b[0mW_tilde\u001b[0m\u001b[0;34m-\u001b[0m\u001b[0;36m1\u001b[0m\u001b[0;34m/\u001b[0m\u001b[0mrho_1\u001b[0m\u001b[0;34m*\u001b[0m\u001b[0mLamda_1\u001b[0m\u001b[0;34m)\u001b[0m\u001b[0;34m.\u001b[0m\u001b[0mt\u001b[0m\u001b[0;34m(\u001b[0m\u001b[0;34m)\u001b[0m \u001b[0;34m+\u001b[0m \u001b[0mrho_2\u001b[0m \u001b[0;34m*\u001b[0m \u001b[0;34m(\u001b[0m\u001b[0mW_hat\u001b[0m\u001b[0;34m-\u001b[0m\u001b[0;36m1\u001b[0m\u001b[0;34m/\u001b[0m\u001b[0mrho_2\u001b[0m\u001b[0;34m*\u001b[0m\u001b[0mLamda_2\u001b[0m\u001b[0;34m)\u001b[0m\u001b[0;34m\u001b[0m\u001b[0;34m\u001b[0m\u001b[0m\n\u001b[0m\u001b[1;32m     58\u001b[0m     \u001b[0;32mreturn\u001b[0m \u001b[0mtorch\u001b[0m\u001b[0;34m.\u001b[0m\u001b[0mmatmul\u001b[0m\u001b[0;34m(\u001b[0m\u001b[0mH\u001b[0m\u001b[0;34m,\u001b[0m \u001b[0mA_inverse\u001b[0m\u001b[0;34m)\u001b[0m\u001b[0;34m\u001b[0m\u001b[0;34m\u001b[0m\u001b[0m\n\u001b[1;32m     59\u001b[0m \u001b[0;34m\u001b[0m\u001b[0m\n",
      "\u001b[0;31mKeyboardInterrupt\u001b[0m: "
     ]
    }
   ],
   "source": [
    "epsilon = 0.01\n",
    "W, W_tilde, W_hat, loss, rho_1, rho_2 = CUR_iter_solver(X=X, T=T, alpha=alpha, lamda=lamda, epsilon=epsilon, \\\n",
    "    initial_rho=1e-6, max_rho=5e2, tau=1.1, set_seed=False)\n",
    "print(loss)\n",
    "print(rho_1, rho_2)"
   ]
  },
  {
   "cell_type": "markdown",
   "metadata": {},
   "source": [
    "when max_rho is large, the algorithm converges quickly, but may not give the best value; when max_rho is small, the algorithm is too slow..."
   ]
  }
 ],
 "metadata": {
  "kernelspec": {
   "display_name": "Python 3.9.7 ('base')",
   "language": "python",
   "name": "python3"
  },
  "language_info": {
   "codemirror_mode": {
    "name": "ipython",
    "version": 3
   },
   "file_extension": ".py",
   "mimetype": "text/x-python",
   "name": "python",
   "nbconvert_exporter": "python",
   "pygments_lexer": "ipython3",
   "version": "3.9.7"
  },
  "orig_nbformat": 4,
  "vscode": {
   "interpreter": {
    "hash": "070abceb24e738bbd6634274827241c1c175321cca14cfcc03bf4e6ff7b889ca"
   }
  }
 },
 "nbformat": 4,
 "nbformat_minor": 2
}
