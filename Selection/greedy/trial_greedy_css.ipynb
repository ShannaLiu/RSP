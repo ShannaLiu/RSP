{
 "cells": [
  {
   "cell_type": "code",
   "execution_count": 1,
   "metadata": {},
   "outputs": [],
   "source": [
    "from greedy_lap import *\n",
    "import torch\n",
    "import matplotlib.pyplot as plt\n",
    "from torch_geometric.datasets.sbm_dataset import StochasticBlockModelDataset\n",
    "from torch_geometric.utils import get_laplacian, to_dense_adj"
   ]
  },
  {
   "cell_type": "code",
   "execution_count": 2,
   "metadata": {},
   "outputs": [],
   "source": [
    "block_sizes = torch.tensor([10,10,10])\n",
    "edge_probs = torch.tensor([[0.8,0.3,0.3], [0.3,0.8,0.3], [0.3,0.3,0.8]])\n",
    "data = StochasticBlockModelDataset(root='data/', block_sizes=block_sizes, num_channels=5, edge_probs=edge_probs)[0]"
   ]
  },
  {
   "cell_type": "code",
   "execution_count": 5,
   "metadata": {},
   "outputs": [
    {
     "name": "stderr",
     "output_type": "stream",
     "text": [
      "/var/folders/v7/6y4d148j17v1f9cfgqn0t_ym0000gn/T/ipykernel_60550/3143654762.py:2: UserWarning: To copy construct from a tensor, it is recommended to use sourceTensor.clone().detach() or sourceTensor.clone().detach().requires_grad_(True), rather than torch.tensor(sourceTensor).\n",
      "  X = torch.cat([torch.normal(mean=torch.tensor(data.y, dtype=torch.float32)).unsqueeze(0),torch.normal(mean=torch.tensor(data.y, dtype=torch.float32)).unsqueeze(0)], dim=0).t()\n"
     ]
    }
   ],
   "source": [
    "L = to_dense_adj(get_laplacian(data.edge_index)[0], edge_attr=get_laplacian(data.edge_index)[1])[0]\n",
    "X = torch.cat([torch.normal(mean=torch.tensor(data.y, dtype=torch.float32)).unsqueeze(0),torch.normal(mean=torch.tensor(data.y, dtype=torch.float32)).unsqueeze(0)], dim=0).t()\n",
    "W  = greedy_lap(X, L, r=3)\n"
   ]
  },
  {
   "cell_type": "code",
   "execution_count": 7,
   "metadata": {},
   "outputs": [
    {
     "data": {
      "text/plain": [
       "torch.Size([30, 30])"
      ]
     },
     "execution_count": 7,
     "metadata": {},
     "output_type": "execute_result"
    }
   ],
   "source": [
    "W.shape"
   ]
  },
  {
   "cell_type": "code",
   "execution_count": 3,
   "metadata": {},
   "outputs": [
    {
     "data": {
      "text/plain": [
       "tensor([[ 0.0000,  0.3258, -0.0878,  0.0000,  0.0000,  0.1633,  0.0000,  0.0000,\n",
       "          0.0000,  0.0000],\n",
       "        [ 0.0000,  1.0736,  0.6225,  0.0000,  0.0000,  0.8577,  0.0000,  0.0000,\n",
       "          0.0000,  0.0000],\n",
       "        [ 0.0000,  0.1393,  1.3132,  0.0000,  0.0000,  0.7973,  0.0000,  0.0000,\n",
       "          0.0000,  0.0000],\n",
       "        [ 0.0000,  0.0000,  0.1154,  0.0000,  0.0000,  0.3827,  0.0000,  0.0000,\n",
       "          0.0000,  0.0000],\n",
       "        [ 0.0000,  0.0983,  0.7106,  0.0000,  0.0000,  0.3964,  0.0000,  0.0000,\n",
       "          0.0000,  0.0000],\n",
       "        [ 0.0000,  0.1142, -0.0000,  0.0000,  0.0000,  0.9932,  0.0000,  0.0000,\n",
       "          0.0000,  0.0000],\n",
       "        [ 0.0000,  0.4061,  0.2314,  0.0000,  0.0000,  0.4088,  0.0000,  0.0000,\n",
       "          0.0000,  0.0000],\n",
       "        [ 0.0000,  0.0289,  0.1778,  0.0000,  0.0000,  0.0320,  0.0000,  0.0000,\n",
       "          0.0000,  0.0000],\n",
       "        [ 0.0000,  0.2695,  0.1935,  0.0000,  0.0000, -0.0000,  0.0000,  0.0000,\n",
       "          0.0000,  0.0000],\n",
       "        [ 0.0000, -0.0711,  0.2497,  0.0000,  0.0000,  0.2107,  0.0000,  0.0000,\n",
       "          0.0000,  0.0000]])"
      ]
     },
     "execution_count": 3,
     "metadata": {},
     "output_type": "execute_result"
    }
   ],
   "source": [
    "from greedy_dist import *\n",
    "\n",
    "X = torch.randn(10,2)\n",
    "T = torch.randn(10,10)\n",
    "r = 3\n",
    "\n",
    "greedy_dist(X, T, r)\n"
   ]
  }
 ],
 "metadata": {
  "kernelspec": {
   "display_name": "Python 3.9.7 ('base')",
   "language": "python",
   "name": "python3"
  },
  "language_info": {
   "codemirror_mode": {
    "name": "ipython",
    "version": 3
   },
   "file_extension": ".py",
   "mimetype": "text/x-python",
   "name": "python",
   "nbconvert_exporter": "python",
   "pygments_lexer": "ipython3",
   "version": "3.9.7"
  },
  "orig_nbformat": 4,
  "vscode": {
   "interpreter": {
    "hash": "070abceb24e738bbd6634274827241c1c175321cca14cfcc03bf4e6ff7b889ca"
   }
  }
 },
 "nbformat": 4,
 "nbformat_minor": 2
}
