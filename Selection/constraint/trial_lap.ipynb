{
 "cells": [
  {
   "cell_type": "code",
   "execution_count": 1,
   "metadata": {},
   "outputs": [],
   "source": [
    "import torch\n",
    "from op_const_lap import *\n",
    "import matplotlib.pyplot as plt\n",
    "from torch_geometric.datasets.sbm_dataset import StochasticBlockModelDataset\n",
    "from torch_geometric.utils import get_laplacian, to_dense_adj"
   ]
  },
  {
   "cell_type": "code",
   "execution_count": 2,
   "metadata": {},
   "outputs": [],
   "source": [
    "block_sizes = torch.tensor([10,10,10])\n",
    "edge_probs = torch.tensor([[0.8,0.3,0.3], [0.3,0.8,0.3], [0.3,0.3,0.8]])\n",
    "data = StochasticBlockModelDataset(root='data/', block_sizes=block_sizes, num_channels=5, edge_probs=edge_probs)[0]"
   ]
  },
  {
   "cell_type": "code",
   "execution_count": 9,
   "metadata": {},
   "outputs": [
    {
     "name": "stdout",
     "output_type": "stream",
     "text": [
      "tensor(0.5579)\n",
      "tensor(0.5306)\n",
      "tensor(0.3622)\n",
      "tensor(0.0785)\n",
      "tensor(0.0184)\n",
      "tensor(0.0080)\n",
      "tensor(0.0041)\n",
      "tensor(0.0021)\n",
      "tensor(0.0015)\n",
      "tensor(0.0011)\n",
      "tensor(0.0008)\n"
     ]
    },
    {
     "name": "stderr",
     "output_type": "stream",
     "text": [
      "/var/folders/v7/6y4d148j17v1f9cfgqn0t_ym0000gn/T/ipykernel_52715/1932819899.py:2: UserWarning: To copy construct from a tensor, it is recommended to use sourceTensor.clone().detach() or sourceTensor.clone().detach().requires_grad_(True), rather than torch.tensor(sourceTensor).\n",
      "  X = torch.cat([torch.normal(mean=torch.tensor(data.y, dtype=torch.float32)).unsqueeze(0),torch.normal(mean=torch.tensor(data.y, dtype=torch.float32)).unsqueeze(0)], dim=0).t()\n"
     ]
    },
    {
     "data": {
      "text/plain": [
       "[<matplotlib.lines.Line2D at 0x7fd7f8da3dc0>]"
      ]
     },
     "execution_count": 9,
     "metadata": {},
     "output_type": "execute_result"
    },
    {
     "data": {
      "image/png": "[encoded data removed]",
      "text/plain": [
       "<Figure size 432x288 with 1 Axes>"
      ]
     },
     "metadata": {
      "needs_background": "light"
     },
     "output_type": "display_data"
    }
   ],
   "source": [
    "L = to_dense_adj(get_laplacian(data.edge_index)[0], edge_attr=get_laplacian(data.edge_index)[1])[0]\n",
    "X = torch.cat([torch.normal(mean=torch.tensor(data.y, dtype=torch.float32)).unsqueeze(0),torch.normal(mean=torch.tensor(data.y, dtype=torch.float32)).unsqueeze(0)], dim=0).t()\n",
    "W, loss_rec = op_const_lap(X, L, r=3, epsilon=1e-3, ratio=0.7)\n",
    "plt.plot(loss_rec)"
   ]
  }
 ],
 "metadata": {
  "kernelspec": {
   "display_name": "Python 3.9.7 ('base')",
   "language": "python",
   "name": "python3"
  },
  "language_info": {
   "codemirror_mode": {
    "name": "ipython",
    "version": 3
   },
   "file_extension": ".py",
   "mimetype": "text/x-python",
   "name": "python",
   "nbconvert_exporter": "python",
   "pygments_lexer": "ipython3",
   "version": "3.9.7"
  },
  "orig_nbformat": 4,
  "vscode": {
   "interpreter": {
    "hash": "070abceb24e738bbd6634274827241c1c175321cca14cfcc03bf4e6ff7b889ca"
   }
  }
 },
 "nbformat": 4,
 "nbformat_minor": 2
}
