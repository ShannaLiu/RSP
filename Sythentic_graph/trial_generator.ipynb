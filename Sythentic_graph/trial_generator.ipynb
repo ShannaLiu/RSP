{
 "cells": [
  {
   "cell_type": "code",
   "execution_count": 1,
   "metadata": {},
   "outputs": [],
   "source": [
    "from Generator import *"
   ]
  },
  {
   "cell_type": "code",
   "execution_count": 2,
   "metadata": {},
   "outputs": [
    {
     "name": "stdout",
     "output_type": "stream",
     "text": [
      "['nx.diamond_graph', 'nx.diamond_graph', 'nx.diamond_graph', 'nx.star_graph', 'nx.star_graph', 'nx.star_graph']\n",
      "[[], [], [], [3], [2], [3]]\n"
     ]
    }
   ],
   "source": [
    "list_shapes = ['nx.diamond_graph'] * 3\n",
    "list_shapes_args = [[]] * 3\n",
    "list_shapes += ['nx.star_graph'] * 3\n",
    "list_shapes_args += [[3], [2], [3]]\n",
    "print(list_shapes)\n",
    "print(list_shapes_args)"
   ]
  },
  {
   "cell_type": "code",
   "execution_count": 3,
   "metadata": {},
   "outputs": [],
   "source": [
    "graph_type = 'nx.connected_watts_strogatz_graph'\n",
    "graph_args = [6, 2, 0.4]"
   ]
  },
  {
   "cell_type": "code",
   "execution_count": 4,
   "metadata": {},
   "outputs": [
    {
     "data": {
      "image/png": "[encoded data removed]",
      "text/plain": [
       "<Figure size 432x288 with 1 Axes>"
      ]
     },
     "metadata": {},
     "output_type": "display_data"
    }
   ],
   "source": [
    "G, Gg, group_label, shape_label, shape_dist = sythetic_graph_generator(list_shapes, list_shapes_args, graph_type, graph_args, plot=True, plot_color = 'group_label', savefig=False)"
   ]
  },
  {
   "cell_type": "code",
   "execution_count": 7,
   "metadata": {},
   "outputs": [
    {
     "data": {
      "text/plain": [
       "(tensor([[ 0.5438,  0.7352, -0.9907, -0.6048, -0.7587],\n",
       "         [ 0.5440,  0.7350, -0.9906, -0.6049, -0.7588],\n",
       "         [ 0.5438,  0.7350, -0.9906, -0.6045, -0.7584],\n",
       "         [ 0.5439,  0.7352, -0.9906, -0.6049, -0.7586],\n",
       "         [-1.2029,  0.4611, -0.8379, -0.8589, -0.2441],\n",
       "         [-1.2031,  0.4611, -0.8379, -0.8591, -0.2441],\n",
       "         [-1.2031,  0.4612, -0.8379, -0.8591, -0.2442],\n",
       "         [-1.2028,  0.4611, -0.8379, -0.8591, -0.2441],\n",
       "         [ 1.2784,  0.8713,  0.3060,  0.0490,  0.4582],\n",
       "         [ 1.2785,  0.8714,  0.3060,  0.0488,  0.4580],\n",
       "         [ 1.2785,  0.8714,  0.3061,  0.0490,  0.4582],\n",
       "         [ 1.2784,  0.8715,  0.3060,  0.0493,  0.4582],\n",
       "         [-0.4819, -1.7387, -0.3530, -1.5218, -0.5001],\n",
       "         [-0.4820, -1.7386, -0.3529, -1.5218, -0.4998],\n",
       "         [-0.4819, -1.7387, -0.3528, -1.5217, -0.5001],\n",
       "         [-0.4820, -1.7388, -0.3530, -1.5218, -0.5000],\n",
       "         [ 1.0900, -0.1377, -0.5812,  2.0586, -0.2752],\n",
       "         [ 1.0898, -0.1378, -0.5813,  2.0585, -0.2750],\n",
       "         [ 1.0901, -0.1377, -0.5813,  2.0586, -0.2750],\n",
       "         [-0.8078,  0.1134,  0.1637,  1.8099, -2.1803],\n",
       "         [-0.8079,  0.1133,  0.1636,  1.8101, -2.1800],\n",
       "         [-0.8080,  0.1133,  0.1638,  1.8100, -2.1804],\n",
       "         [-0.8077,  0.1134,  0.1638,  1.8101, -2.1801]]),\n",
       " tensor([[ 0.5439,  0.7351, -0.9906, -0.6048, -0.7587],\n",
       "         [-1.2030,  0.4611, -0.8378, -0.8591, -0.2443],\n",
       "         [ 1.2784,  0.8714,  0.3060,  0.0490,  0.4581],\n",
       "         [-0.4820, -1.7387, -0.3529, -1.5217, -0.5001],\n",
       "         [ 1.0900, -0.1377, -0.5812,  2.0585, -0.2750],\n",
       "         [-0.8078,  0.1133,  0.1637,  1.8100, -2.1803]]))"
      ]
     },
     "execution_count": 7,
     "metadata": {},
     "output_type": "execute_result"
    }
   ],
   "source": [
    "sythetic_feature_generator(group_label, num_features=5, std=0.0001)"
   ]
  }
 ],
 "metadata": {
  "kernelspec": {
   "display_name": "Python 3.9.7 ('base')",
   "language": "python",
   "name": "python3"
  },
  "language_info": {
   "codemirror_mode": {
    "name": "ipython",
    "version": 3
   },
   "file_extension": ".py",
   "mimetype": "text/x-python",
   "name": "python",
   "nbconvert_exporter": "python",
   "pygments_lexer": "ipython3",
   "version": "3.9.7"
  },
  "orig_nbformat": 4,
  "vscode": {
   "interpreter": {
    "hash": "070abceb24e738bbd6634274827241c1c175321cca14cfcc03bf4e6ff7b889ca"
   }
  }
 },
 "nbformat": 4,
 "nbformat_minor": 2
}
