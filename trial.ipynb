{
 "cells": [
  {
   "cell_type": "code",
   "execution_count": 8,
   "metadata": {},
   "outputs": [],
   "source": [
    "import torch\n",
    "from func1 import *\n",
    "from func2 import *"
   ]
  },
  {
   "cell_type": "code",
   "execution_count": 58,
   "metadata": {},
   "outputs": [],
   "source": [
    "X = torch.randn(10,2)\n",
    "T = torch.randn(10,10)\n",
    "alpha = lamda = 1"
   ]
  },
  {
   "cell_type": "code",
   "execution_count": 59,
   "metadata": {},
   "outputs": [
    {
     "name": "stdout",
     "output_type": "stream",
     "text": [
      "tensor(27.5162, grad_fn=<AddBackward0>)\n"
     ]
    }
   ],
   "source": [
    "W, loss = CUR_torch_solver(X, T, alpha, lamda, epochs=1000, learning_rate=1e-5, print=False)\n",
    "print(loss)"
   ]
  },
  {
   "cell_type": "code",
   "execution_count": 60,
   "metadata": {},
   "outputs": [
    {
     "name": "stdout",
     "output_type": "stream",
     "text": [
      "tensor(23.7422)\n"
     ]
    }
   ],
   "source": [
    "epsilon = 0.01\n",
    "W, W_tilde, W_hat, loss = CUR_iter_solver(X, T, alpha, lamda, epsilon, set_seed=False)\n",
    "print(loss)"
   ]
  },
  {
   "cell_type": "code",
   "execution_count": null,
   "metadata": {},
   "outputs": [],
   "source": []
  },
  {
   "cell_type": "code",
   "execution_count": null,
   "metadata": {},
   "outputs": [],
   "source": []
  },
  {
   "cell_type": "code",
   "execution_count": null,
   "metadata": {},
   "outputs": [],
   "source": []
  },
  {
   "cell_type": "code",
   "execution_count": 65,
   "metadata": {},
   "outputs": [],
   "source": [
    "X = torch.randn(20,5)\n",
    "T = torch.randn(20,20)\n",
    "alpha = lamda = 1"
   ]
  },
  {
   "cell_type": "code",
   "execution_count": 66,
   "metadata": {},
   "outputs": [
    {
     "name": "stdout",
     "output_type": "stream",
     "text": [
      "tensor(108.0088, grad_fn=<AddBackward0>)\n"
     ]
    }
   ],
   "source": [
    "W, loss = CUR_torch_solver(X, T, alpha, lamda, epochs=1000, learning_rate=1e-5, print=False)\n",
    "print(loss)"
   ]
  },
  {
   "cell_type": "code",
   "execution_count": 67,
   "metadata": {},
   "outputs": [
    {
     "name": "stdout",
     "output_type": "stream",
     "text": [
      "tensor(103.9601)\n"
     ]
    }
   ],
   "source": [
    "epsilon = 0.01\n",
    "W, W_tilde, W_hat, loss = CUR_iter_solver(X, T, alpha, lamda, epsilon, set_seed=False)\n",
    "print(loss)"
   ]
  },
  {
   "cell_type": "code",
   "execution_count": null,
   "metadata": {},
   "outputs": [],
   "source": []
  },
  {
   "cell_type": "code",
   "execution_count": null,
   "metadata": {},
   "outputs": [],
   "source": []
  },
  {
   "cell_type": "code",
   "execution_count": 68,
   "metadata": {},
   "outputs": [],
   "source": [
    "X = torch.randn(100,5)\n",
    "T = torch.randn(100,100)\n",
    "alpha = lamda = 1"
   ]
  },
  {
   "cell_type": "code",
   "execution_count": 69,
   "metadata": {},
   "outputs": [
    {
     "name": "stdout",
     "output_type": "stream",
     "text": [
      "tensor(299.1636, grad_fn=<AddBackward0>)\n"
     ]
    }
   ],
   "source": [
    "W, loss = CUR_torch_solver(X, T, alpha, lamda, epochs=1000, learning_rate=1e-5, print=False)\n",
    "print(loss)"
   ]
  },
  {
   "cell_type": "code",
   "execution_count": 70,
   "metadata": {},
   "outputs": [
    {
     "name": "stdout",
     "output_type": "stream",
     "text": [
      "tensor(483.0156)\n"
     ]
    }
   ],
   "source": [
    "epsilon = 0.01\n",
    "W, W_tilde, W_hat, loss = CUR_iter_solver(X, T, alpha, lamda, epsilon, set_seed=False)\n",
    "print(loss)"
   ]
  }
 ],
 "metadata": {
  "kernelspec": {
   "display_name": "Python 3.9.7 ('base')",
   "language": "python",
   "name": "python3"
  },
  "language_info": {
   "codemirror_mode": {
    "name": "ipython",
    "version": 3
   },
   "file_extension": ".py",
   "mimetype": "text/x-python",
   "name": "python",
   "nbconvert_exporter": "python",
   "pygments_lexer": "ipython3",
   "version": "3.9.7"
  },
  "orig_nbformat": 4,
  "vscode": {
   "interpreter": {
    "hash": "070abceb24e738bbd6634274827241c1c175321cca14cfcc03bf4e6ff7b889ca"
   }
  }
 },
 "nbformat": 4,
 "nbformat_minor": 2
}
