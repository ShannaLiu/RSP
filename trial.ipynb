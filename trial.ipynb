{
 "cells": [
  {
   "cell_type": "code",
   "execution_count": 1,
   "metadata": {},
   "outputs": [],
   "source": [
    "import torch\n",
    "from func1 import *\n",
    "from func2 import *"
   ]
  },
  {
   "cell_type": "code",
   "execution_count": 2,
   "metadata": {},
   "outputs": [],
   "source": [
    "X = torch.randn(10,2)\n",
    "T = torch.randn(10,10)\n",
    "alpha = lamda = 1"
   ]
  },
  {
   "cell_type": "code",
   "execution_count": 3,
   "metadata": {},
   "outputs": [
    {
     "name": "stdout",
     "output_type": "stream",
     "text": [
      "tensor(31.0293, grad_fn=<AddBackward0>)\n"
     ]
    }
   ],
   "source": [
    "W, loss = CUR_torch_solver(X, T, alpha, lamda, epochs=1000, learning_rate=1e-5, print=False)\n",
    "print(loss)"
   ]
  },
  {
   "cell_type": "code",
   "execution_count": 4,
   "metadata": {},
   "outputs": [
    {
     "name": "stdout",
     "output_type": "stream",
     "text": [
      "tensor(22.7263)\n",
      "10399.915443693888 10399.915443693888\n"
     ]
    }
   ],
   "source": [
    "epsilon = 0.01\n",
    "W, W_tilde, W_hat, loss, rho_1, rho_2 = CUR_iter_solver(X=X, T=T, alpha=alpha, lamda=lamda, epsilon=epsilon, \\\n",
    "    initial_rho=1e-6, max_rho=1e10, tau=1.1, set_seed=False)\n",
    "print(loss)\n",
    "print(rho_1, rho_2)"
   ]
  },
  {
   "cell_type": "code",
   "execution_count": null,
   "metadata": {},
   "outputs": [],
   "source": []
  },
  {
   "cell_type": "code",
   "execution_count": null,
   "metadata": {},
   "outputs": [],
   "source": []
  },
  {
   "cell_type": "code",
   "execution_count": null,
   "metadata": {},
   "outputs": [],
   "source": []
  },
  {
   "cell_type": "code",
   "execution_count": 5,
   "metadata": {},
   "outputs": [],
   "source": [
    "X = torch.randn(20,5)\n",
    "T = torch.randn(20,20)\n",
    "alpha = lamda = 1"
   ]
  },
  {
   "cell_type": "code",
   "execution_count": 6,
   "metadata": {},
   "outputs": [
    {
     "name": "stdout",
     "output_type": "stream",
     "text": [
      "tensor(85.6743, grad_fn=<AddBackward0>)\n"
     ]
    }
   ],
   "source": [
    "W, loss = CUR_torch_solver(X, T, alpha, lamda, epochs=1000, learning_rate=1e-5, print=False)\n",
    "print(loss)"
   ]
  },
  {
   "cell_type": "code",
   "execution_count": 7,
   "metadata": {},
   "outputs": [
    {
     "name": "stdout",
     "output_type": "stream",
     "text": [
      "tensor(85.3120)\n",
      "69965.43062044126 69965.43062044126\n"
     ]
    }
   ],
   "source": [
    "epsilon = 0.01\n",
    "W, W_tilde, W_hat, loss, rho_1, rho_2 = CUR_iter_solver(X=X, T=T, alpha=alpha, lamda=lamda, epsilon=epsilon, \\\n",
    "    initial_rho=1e-6, max_rho=1e10, tau=1.1, set_seed=False)\n",
    "print(loss)\n",
    "print(rho_1, rho_2)"
   ]
  },
  {
   "cell_type": "code",
   "execution_count": null,
   "metadata": {},
   "outputs": [],
   "source": []
  },
  {
   "cell_type": "code",
   "execution_count": null,
   "metadata": {},
   "outputs": [],
   "source": []
  },
  {
   "cell_type": "code",
   "execution_count": 8,
   "metadata": {},
   "outputs": [],
   "source": [
    "X = torch.randn(100,5)\n",
    "T = torch.randn(100,100)\n",
    "alpha = lamda = 1"
   ]
  },
  {
   "cell_type": "code",
   "execution_count": 9,
   "metadata": {},
   "outputs": [
    {
     "name": "stdout",
     "output_type": "stream",
     "text": [
      "tensor(300.9689, grad_fn=<AddBackward0>)\n"
     ]
    }
   ],
   "source": [
    "W, loss = CUR_torch_solver(X, T, alpha, lamda, epochs=1000, learning_rate=1e-5, print=False)\n",
    "print(loss)"
   ]
  },
  {
   "cell_type": "code",
   "execution_count": 10,
   "metadata": {},
   "outputs": [
    {
     "name": "stdout",
     "output_type": "stream",
     "text": [
      "tensor(488.5446)\n",
      "2162819.0051144334 2162819.0051144334\n"
     ]
    }
   ],
   "source": [
    "epsilon = 0.01\n",
    "W, W_tilde, W_hat, loss, rho_1, rho_2 = CUR_iter_solver(X=X, T=T, alpha=alpha, lamda=lamda, epsilon=epsilon, \\\n",
    "    initial_rho=1e-6, max_rho=1e10, tau=1.1, set_seed=False)\n",
    "print(loss)\n",
    "print(rho_1, rho_2)"
   ]
  },
  {
   "cell_type": "code",
   "execution_count": 22,
   "metadata": {},
   "outputs": [
    {
     "name": "stdout",
     "output_type": "stream",
     "text": [
      "tensor(488.4620)\n",
      "1000000.0 1000000.0\n"
     ]
    }
   ],
   "source": [
    "epsilon = 0.01\n",
    "W, W_tilde, W_hat, loss, rho_1, rho_2 = CUR_iter_solver(X=X, T=T, alpha=alpha, lamda=lamda, epsilon=epsilon, \\\n",
    "    initial_rho=1e-6, max_rho=1e6, tau=1.1, set_seed=False)\n",
    "print(loss)\n",
    "print(rho_1, rho_2)"
   ]
  },
  {
   "cell_type": "code",
   "execution_count": 23,
   "metadata": {},
   "outputs": [
    {
     "name": "stdout",
     "output_type": "stream",
     "text": [
      "tensor(364.3037)\n",
      "1000.0 1000.0\n"
     ]
    }
   ],
   "source": [
    "epsilon = 0.01\n",
    "W, W_tilde, W_hat, loss, rho_1, rho_2 = CUR_iter_solver(X=X, T=T, alpha=alpha, lamda=lamda, epsilon=epsilon, \\\n",
    "    initial_rho=1e-6, max_rho=1e3, tau=1.1, set_seed=False)\n",
    "print(loss)\n",
    "print(rho_1, rho_2)"
   ]
  },
  {
   "cell_type": "code",
   "execution_count": 26,
   "metadata": {},
   "outputs": [
    {
     "ename": "KeyboardInterrupt",
     "evalue": "",
     "output_type": "error",
     "traceback": [
      "\u001b[0;31m---------------------------------------------------------------------------\u001b[0m",
      "\u001b[0;31mKeyboardInterrupt\u001b[0m                         Traceback (most recent call last)",
      "\u001b[0;32m/var/folders/v7/6y4d148j17v1f9cfgqn0t_ym0000gn/T/ipykernel_84468/3719271276.py\u001b[0m in \u001b[0;36m<module>\u001b[0;34m\u001b[0m\n\u001b[1;32m      1\u001b[0m \u001b[0mepsilon\u001b[0m \u001b[0;34m=\u001b[0m \u001b[0;36m0.01\u001b[0m\u001b[0;34m\u001b[0m\u001b[0;34m\u001b[0m\u001b[0m\n\u001b[0;32m----> 2\u001b[0;31m W, W_tilde, W_hat, loss, rho_1, rho_2 = CUR_iter_solver(X=X, T=T, alpha=alpha, lamda=lamda, epsilon=epsilon, \\\n\u001b[0m\u001b[1;32m      3\u001b[0m     initial_rho=1e-6, max_rho=5e2, tau=1.1, set_seed=False)\n\u001b[1;32m      4\u001b[0m \u001b[0mprint\u001b[0m\u001b[0;34m(\u001b[0m\u001b[0mloss\u001b[0m\u001b[0;34m)\u001b[0m\u001b[0;34m\u001b[0m\u001b[0;34m\u001b[0m\u001b[0m\n\u001b[1;32m      5\u001b[0m \u001b[0mprint\u001b[0m\u001b[0;34m(\u001b[0m\u001b[0mrho_1\u001b[0m\u001b[0;34m,\u001b[0m \u001b[0mrho_2\u001b[0m\u001b[0;34m)\u001b[0m\u001b[0;34m\u001b[0m\u001b[0;34m\u001b[0m\u001b[0m\n",
      "\u001b[0;32m~/Documents/Research in second year/Experiments/RSP/func2.py\u001b[0m in \u001b[0;36mCUR_iter_solver\u001b[0;34m(X, T, alpha, lamda, epsilon, initial_rho, max_rho, tau, set_seed)\u001b[0m\n\u001b[1;32m     34\u001b[0m         \u001b[0;31m# compute stopping criterkon\u001b[0m\u001b[0;34m\u001b[0m\u001b[0;34m\u001b[0m\u001b[0m\n\u001b[1;32m     35\u001b[0m         \u001b[0merror_1\u001b[0m \u001b[0;34m=\u001b[0m \u001b[0mtorch\u001b[0m\u001b[0;34m.\u001b[0m\u001b[0mmax\u001b[0m\u001b[0;34m(\u001b[0m\u001b[0mabs\u001b[0m\u001b[0;34m(\u001b[0m\u001b[0mW\u001b[0m\u001b[0;34m.\u001b[0m\u001b[0mt\u001b[0m\u001b[0;34m(\u001b[0m\u001b[0;34m)\u001b[0m\u001b[0;34m-\u001b[0m\u001b[0mW_tilde\u001b[0m\u001b[0;34m)\u001b[0m\u001b[0;34m)\u001b[0m\u001b[0;34m\u001b[0m\u001b[0;34m\u001b[0m\u001b[0m\n\u001b[0;32m---> 36\u001b[0;31m         \u001b[0merror_2\u001b[0m \u001b[0;34m=\u001b[0m \u001b[0mtorch\u001b[0m\u001b[0;34m.\u001b[0m\u001b[0mmax\u001b[0m\u001b[0;34m(\u001b[0m\u001b[0mabs\u001b[0m\u001b[0;34m(\u001b[0m\u001b[0mW\u001b[0m\u001b[0;34m-\u001b[0m\u001b[0mW_hat_new\u001b[0m\u001b[0;34m)\u001b[0m\u001b[0;34m)\u001b[0m\u001b[0;34m\u001b[0m\u001b[0;34m\u001b[0m\u001b[0m\n\u001b[0m\u001b[1;32m     37\u001b[0m         \u001b[0mloss_old\u001b[0m\u001b[0;34m,\u001b[0m \u001b[0m_\u001b[0m\u001b[0;34m,\u001b[0m \u001b[0m_\u001b[0m\u001b[0;34m,\u001b[0m \u001b[0m_\u001b[0m \u001b[0;34m=\u001b[0m \u001b[0mcomput_desired_loss\u001b[0m\u001b[0;34m(\u001b[0m\u001b[0mX\u001b[0m\u001b[0;34m,\u001b[0m \u001b[0mW_old\u001b[0m\u001b[0;34m,\u001b[0m \u001b[0mT\u001b[0m\u001b[0;34m,\u001b[0m \u001b[0malpha\u001b[0m\u001b[0;34m,\u001b[0m \u001b[0mlamda\u001b[0m\u001b[0;34m)\u001b[0m\u001b[0;34m\u001b[0m\u001b[0;34m\u001b[0m\u001b[0m\n\u001b[1;32m     38\u001b[0m         \u001b[0mloss_new\u001b[0m\u001b[0;34m,\u001b[0m \u001b[0m_\u001b[0m\u001b[0;34m,\u001b[0m \u001b[0m_\u001b[0m\u001b[0;34m,\u001b[0m \u001b[0m_\u001b[0m \u001b[0;34m=\u001b[0m \u001b[0mcomput_desired_loss\u001b[0m\u001b[0;34m(\u001b[0m\u001b[0mX\u001b[0m\u001b[0;34m,\u001b[0m \u001b[0mW\u001b[0m\u001b[0;34m,\u001b[0m \u001b[0mT\u001b[0m\u001b[0;34m,\u001b[0m \u001b[0malpha\u001b[0m\u001b[0;34m,\u001b[0m \u001b[0mlamda\u001b[0m\u001b[0;34m)\u001b[0m\u001b[0;34m\u001b[0m\u001b[0;34m\u001b[0m\u001b[0m\n",
      "\u001b[0;31mKeyboardInterrupt\u001b[0m: "
     ]
    }
   ],
   "source": [
    "epsilon = 0.01\n",
    "W, W_tilde, W_hat, loss, rho_1, rho_2 = CUR_iter_solver(X=X, T=T, alpha=alpha, lamda=lamda, epsilon=epsilon, \\\n",
    "    initial_rho=1e-6, max_rho=5e2, tau=1.1, set_seed=False)\n",
    "print(loss)\n",
    "print(rho_1, rho_2)"
   ]
  },
  {
   "cell_type": "markdown",
   "metadata": {},
   "source": [
    "when max_rho is large, the algorithm converges quickly, but may not give the best value; when max_rho is small, the algorithm is too slow..."
   ]
  }
 ],
 "metadata": {
  "kernelspec": {
   "display_name": "Python 3.9.7 ('base')",
   "language": "python",
   "name": "python3"
  },
  "language_info": {
   "codemirror_mode": {
    "name": "ipython",
    "version": 3
   },
   "file_extension": ".py",
   "mimetype": "text/x-python",
   "name": "python",
   "nbconvert_exporter": "python",
   "pygments_lexer": "ipython3",
   "version": "3.9.7"
  },
  "orig_nbformat": 4,
  "vscode": {
   "interpreter": {
    "hash": "070abceb24e738bbd6634274827241c1c175321cca14cfcc03bf4e6ff7b889ca"
   }
  }
 },
 "nbformat": 4,
 "nbformat_minor": 2
}
