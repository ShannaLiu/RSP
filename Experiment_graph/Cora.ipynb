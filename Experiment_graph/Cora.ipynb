{
 "cells": [
  {
   "cell_type": "code",
   "execution_count": 1,
   "metadata": {},
   "outputs": [],
   "source": [
    "import torch\n",
    "from torch_geometric.datasets import Planetoid\n",
    "from torch_geometric.transforms import NormalizeFeatures, LargestConnectedComponents, RandomNodeSplit\n",
    "from torch_geometric.nn import GCNConv\n",
    "import matplotlib.pyplot as plt \n",
    "import networkx as nx\n",
    "from torch_geometric.utils import from_networkx, to_networkx\n",
    "from torch_geometric.utils import to_dense_adj\n",
    "import numpy as np\n",
    "\n",
    "import sys  \n",
    "sys.path.append('../Selection/constraint')\n",
    "from GCN_model import *\n",
    "from op_const import *"
   ]
  },
  {
   "cell_type": "code",
   "execution_count": 2,
   "metadata": {},
   "outputs": [
    {
     "name": "stderr",
     "output_type": "stream",
     "text": [
      "Downloading https://github.com/kimiyoung/planetoid/raw/master/data/ind.cora.x\n",
      "Downloading https://github.com/kimiyoung/planetoid/raw/master/data/ind.cora.tx\n",
      "Downloading https://github.com/kimiyoung/planetoid/raw/master/data/ind.cora.allx\n",
      "Downloading https://github.com/kimiyoung/planetoid/raw/master/data/ind.cora.y\n",
      "Downloading https://github.com/kimiyoung/planetoid/raw/master/data/ind.cora.ty\n",
      "Downloading https://github.com/kimiyoung/planetoid/raw/master/data/ind.cora.ally\n",
      "Downloading https://github.com/kimiyoung/planetoid/raw/master/data/ind.cora.graph\n",
      "Downloading https://github.com/kimiyoung/planetoid/raw/master/data/ind.cora.test.index\n",
      "Processing...\n",
      "Done!\n"
     ]
    }
   ],
   "source": [
    "dataset = Planetoid(root='data/Planetoid', name='Cora', pre_transform=LargestConnectedComponents(),\\\n",
    "    transform=NormalizeFeatures())\n",
    "data = dataset[0]"
   ]
  },
  {
   "cell_type": "code",
   "execution_count": 53,
   "metadata": {},
   "outputs": [],
   "source": [
    "train_mask = np.random.rand(data.num_nodes) <= 0.6\n",
    "test_mask = (1-train_mask) != 0\n",
    "train_mask = torch.tensor(train_mask)\n",
    "test_mask = torch.tensor(test_mask)"
   ]
  },
  {
   "cell_type": "code",
   "execution_count": 56,
   "metadata": {},
   "outputs": [
    {
     "name": "stdout",
     "output_type": "stream",
     "text": [
      "Epoch: 001, Loss: 1.9369\n",
      "Epoch: 011, Loss: 1.8276\n",
      "Epoch: 021, Loss: 1.7460\n",
      "Epoch: 031, Loss: 1.6591\n",
      "Epoch: 041, Loss: 1.5784\n",
      "Epoch: 051, Loss: 1.4649\n",
      "Epoch: 061, Loss: 1.3597\n",
      "Epoch: 071, Loss: 1.2619\n",
      "Epoch: 081, Loss: 1.2049\n",
      "Epoch: 091, Loss: 1.1070\n",
      "Final accuracy on test set is : 0.775\n"
     ]
    },
    {
     "data": {
      "text/plain": [
       "0.774863387978142"
      ]
     },
     "execution_count": 56,
     "metadata": {},
     "output_type": "execute_result"
    }
   ],
   "source": [
    "train_test_model(data, num_features=dataset.num_features, hidden_channels=16, num_classes=dataset.num_classes, \n",
    "      epochs=100, lr=1e-2, weight_decay=5e-4, train_mask=train_mask, test_mask=test_mask)"
   ]
  },
  {
   "cell_type": "code",
   "execution_count": 4,
   "metadata": {},
   "outputs": [],
   "source": [
    "A = to_dense_adj(data.edge_index).reshape(data.num_nodes,data.num_nodes) # N*N\n",
    "G = to_networkx(data, to_undirected=True) \n",
    "dic = dict(nx.all_pairs_shortest_path_length(G))"
   ]
  },
  {
   "cell_type": "code",
   "execution_count": 5,
   "metadata": {},
   "outputs": [],
   "source": [
    "T = torch.zeros_like(A)\n",
    "for i in range(T.shape[0]):\n",
    "    for j in range(T.shape[1]):\n",
    "        T[i,j] = dic[i][j]"
   ]
  },
  {
   "cell_type": "code",
   "execution_count": 58,
   "metadata": {},
   "outputs": [
    {
     "data": {
      "text/plain": [
       "[<matplotlib.lines.Line2D at 0x7f88bcf38820>]"
      ]
     },
     "execution_count": 58,
     "metadata": {},
     "output_type": "execute_result"
    },
    {
     "data": {
      "image/png": "[encoded data removed]",
      "text/plain": [
       "<Figure size 432x288 with 1 Axes>"
      ]
     },
     "metadata": {
      "needs_background": "light"
     },
     "output_type": "display_data"
    }
   ],
   "source": [
    "W, loss_rec = op_const(data.x, T, r=500, epsilon=1e-3, ratio=0.5)\n",
    "plt.plot(loss_rec)"
   ]
  },
  {
   "cell_type": "code",
   "execution_count": 67,
   "metadata": {},
   "outputs": [
    {
     "name": "stdout",
     "output_type": "stream",
     "text": [
      "Epoch: 001, Loss: 1.9352\n",
      "Epoch: 011, Loss: 1.8064\n",
      "Epoch: 021, Loss: 1.7027\n",
      "Epoch: 031, Loss: 1.6164\n",
      "Epoch: 041, Loss: 1.5273\n",
      "Epoch: 051, Loss: 1.4201\n",
      "Epoch: 061, Loss: 1.3204\n",
      "Epoch: 071, Loss: 1.1861\n",
      "Epoch: 081, Loss: 1.1188\n",
      "Epoch: 091, Loss: 1.0157\n",
      "Final accuracy on test set is : 0.708\n"
     ]
    },
    {
     "data": {
      "text/plain": [
       "0.7081967213114754"
      ]
     },
     "execution_count": 67,
     "metadata": {},
     "output_type": "execute_result"
    }
   ],
   "source": [
    "sel_mask = torch.sum(W, dim=0) != 0\n",
    "sel_train_mask = (sel_mask & train_mask)\n",
    "train_test_model(data, num_features=dataset.num_features, hidden_channels=16, num_classes=dataset.num_classes, \n",
    "      epochs=100, lr=1e-2, weight_decay=5e-4, train_mask=sel_train_mask, test_mask=test_mask)"
   ]
  },
  {
   "cell_type": "code",
   "execution_count": 68,
   "metadata": {},
   "outputs": [
    {
     "data": {
      "text/plain": [
       "tensor(1530)"
      ]
     },
     "execution_count": 68,
     "metadata": {},
     "output_type": "execute_result"
    }
   ],
   "source": [
    "train_mask.sum()"
   ]
  },
  {
   "cell_type": "code",
   "execution_count": 69,
   "metadata": {},
   "outputs": [
    {
     "data": {
      "text/plain": [
       "tensor(320)"
      ]
     },
     "execution_count": 69,
     "metadata": {},
     "output_type": "execute_result"
    }
   ],
   "source": [
    "sel_train_mask.sum()"
   ]
  }
 ],
 "metadata": {
  "kernelspec": {
   "display_name": "Python 3.9.7 ('base')",
   "language": "python",
   "name": "python3"
  },
  "language_info": {
   "codemirror_mode": {
    "name": "ipython",
    "version": 3
   },
   "file_extension": ".py",
   "mimetype": "text/x-python",
   "name": "python",
   "nbconvert_exporter": "python",
   "pygments_lexer": "ipython3",
   "version": "3.9.7"
  },
  "orig_nbformat": 4,
  "vscode": {
   "interpreter": {
    "hash": "070abceb24e738bbd6634274827241c1c175321cca14cfcc03bf4e6ff7b889ca"
   }
  }
 },
 "nbformat": 4,
 "nbformat_minor": 2
}
