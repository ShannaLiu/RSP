{
 "cells": [
  {
   "cell_type": "code",
   "execution_count": 3,
   "metadata": {},
   "outputs": [],
   "source": [
    "sys.path.append('/Users/liushuhan/Documents/AL_GNN/Experiments/RSP/Sythentic_graph')\n",
    "sys.path.append('../')\n",
    "from Generator import *\n",
    "import matplotlib.pyplot as plt\n",
    "from util import *\n",
    "from loss import *\n",
    "from Estimator import *"
   ]
  },
  {
   "cell_type": "markdown",
   "metadata": {},
   "source": [
    "### feature = 20"
   ]
  },
  {
   "cell_type": "code",
   "execution_count": 4,
   "metadata": {},
   "outputs": [
    {
     "name": "stderr",
     "output_type": "stream",
     "text": [
      "/Users/liushuhan/Documents/AL_GNN/Experiments/RSP/Sythentic_graph/Generator.py:79: UserWarning: To copy construct from a tensor, it is recommended to use sourceTensor.clone().detach() or sourceTensor.clone().detach().requires_grad_(True), rather than torch.tensor(sourceTensor).\n",
      "  node_mean = torch.tensor(group_mean[group_label[i],])\n"
     ]
    },
    {
     "data": {
      "image/png": "[encoded data removed]",
      "text/plain": [
       "<Figure size 432x288 with 1 Axes>"
      ]
     },
     "metadata": {},
     "output_type": "display_data"
    }
   ],
   "source": [
    "list_shapes = ['nx.house_graph'] * 6\n",
    "list_shapes_args = [[]] * 6\n",
    "graph_type = 'nx.connected_watts_strogatz_graph'\n",
    "graph_args = [6, 2, 0.4]\n",
    "G, Gg, group_label, shape_label, shape_dist = synthetic_graph_generator(list_shapes, list_shapes_args, graph_type, graph_args, \\\n",
    "    plot=True, plot_color='group_label', savefig=False, root=None, figname=None)\n",
    "L, D, Gamma = graph_to_mat(G)\n",
    "node_features, group_mean = synthetic_feature_generator(group_label, num_features=20, std=1.0, save=False, root=False) \n",
    "node_features = node_features.numpy()\n",
    "group_mean = group_mean.numpy()"
   ]
  },
  {
   "cell_type": "markdown",
   "metadata": {},
   "source": [
    "#### elastic net"
   ]
  },
  {
   "cell_type": "code",
   "execution_count": 5,
   "metadata": {},
   "outputs": [
    {
     "name": "stderr",
     "output_type": "stream",
     "text": [
      "/Users/liushuhan/opt/anaconda3/lib/python3.9/site-packages/cvxpy/problems/problem.py:1337: UserWarning: Solution may be inaccurate. Try another solver, adjusting the solver settings, or solve with verbose=True for more information.\n",
      "  warnings.warn(\n"
     ]
    }
   ],
   "source": [
    "l1s = np.float32([1, 10, 20, 50])\n",
    "l2s = np.float32([1, 10, 50, 100])\n",
    "l3s = np.float32([1, 5, 10, 20])\n",
    "num1 = len(l1s)\n",
    "num2 = len(l2s)\n",
    "num3 = len(l3s)\n",
    "num = num1 * num2 * num3\n",
    "flag = 1\n",
    "f = plt.figure(figsize=(12,35))\n",
    "for i in range(num1):\n",
    "    for j in range(num2):\n",
    "        for k in range(num3):\n",
    "            ax0 = f.add_subplot(np.int0(np.ceil(num/4)), 4, flag)\n",
    "            ele = ElastEstimator(l1=l1s[i], l2=l2s[j], l3=l3s[k], Gamma=Gamma, D=D, method='cp', solver='SCS', diag_pen=True)\n",
    "            ele.fit(node_features, maxiter=1000)\n",
    "            ele.heatplot(xticklabels=False, yticklabels=False, cbar=True)\n",
    "            ax0.set_title('l1:'+str(int(l1s[i]))+', '+'l2:'+str(int(l2s[j]))+', '+'l3:'+str(int(np.round(l3s[k]))))\n",
    "            flag = flag+1\n",
    "del l1s\n",
    "del l2s\n",
    "del l3s"
   ]
  },
  {
   "cell_type": "code",
   "execution_count": null,
   "metadata": {},
   "outputs": [
    {
     "name": "stderr",
     "output_type": "stream",
     "text": [
      "/Users/liushuhan/opt/anaconda3/lib/python3.9/site-packages/cvxpy/problems/problem.py:1337: UserWarning: Solution may be inaccurate. Try another solver, adjusting the solver settings, or solve with verbose=True for more information.\n",
      "  warnings.warn(\n"
     ]
    }
   ],
   "source": [
    "l1s = np.float32([1, 10, 20, 50])\n",
    "l2s = np.float32([1, 10, 50, 100])\n",
    "l3s = np.float32([1, 5, 10, 20])\n",
    "num1 = len(l1s)\n",
    "num2 = len(l2s)\n",
    "num3 = len(l3s)\n",
    "num = num1 * num2 * num3\n",
    "flag = 1\n",
    "f = plt.figure(figsize=(12,35))\n",
    "for i in range(num1):\n",
    "    for j in range(num2):\n",
    "        for k in range(num3):\n",
    "            ax0 = f.add_subplot(np.int0(np.ceil(num/4)), 4, flag)\n",
    "            ele = ElastEstimator(l1=l1s[i], l2=l2s[j], l3=l3s[k], Gamma=Gamma, D=D, method='cp', solver='SCS', diag_pen=True)\n",
    "            ele.fit(node_features, maxiter=1000)\n",
    "            ele.heatplot(xticklabels=False, yticklabels=False, cbar=True)\n",
    "            ax0.set_title('l1:'+str(int(l1s[i]))+', '+'l2:'+str(int(l2s[j]))+', '+'l3:'+str(int(np.round(l3s[k]))))\n",
    "            flag = flag+1\n",
    "del l1s\n",
    "del l2s\n",
    "del l3s"
   ]
  },
  {
   "cell_type": "markdown",
   "metadata": {},
   "source": [
    "#### corrected elastic net"
   ]
  },
  {
   "cell_type": "code",
   "execution_count": null,
   "metadata": {},
   "outputs": [],
   "source": [
    "l1s = np.float32([1, 10, 20, 50])\n",
    "l2s = np.float32([1, 10, 50, 100])\n",
    "l3s = np.float32([1, 5, 10, 20])\n",
    "num1 = len(l1s)\n",
    "num2 = len(l2s)\n",
    "num3 = len(l3s)\n",
    "num = num1 * num2 * num3\n",
    "flag = 1\n",
    "f = plt.figure(figsize=(12,35))\n",
    "for i in range(num1):\n",
    "    for j in range(num2):\n",
    "        for k in range(num3):\n",
    "            ax0 = f.add_subplot(np.int0(np.ceil(num/4)), 4, flag)\n",
    "            ele = correctedElastEstimator(l1=l1s[i], l2=l2s[j], l3=l3s[k], Gamma=Gamma, D=D, method='cp', solver='SCS', diag_pen=True)\n",
    "            ele.fit(node_features, maxiter=1000)\n",
    "            ele.heatplot(xticklabels=False, yticklabels=False, cbar=True)\n",
    "            ax0.set_title('l1:'+str(int(l1s[i]))+', '+'l2:'+str(int(l2s[j]))+', '+'l3:'+str(int(np.round(l3s[k]))))\n",
    "            flag = flag+1\n",
    "del l1s\n",
    "del l2s\n",
    "del l3s"
   ]
  },
  {
   "cell_type": "markdown",
   "metadata": {},
   "source": [
    "#### Lasso "
   ]
  },
  {
   "cell_type": "code",
   "execution_count": null,
   "metadata": {},
   "outputs": [],
   "source": [
    "l1s = np.float32([1, 10, 20, 50])\n",
    "l3s = np.float32([1, 5, 10, 20])\n",
    "num1 = len(l1s)\n",
    "num3 = len(l3s)\n",
    "num = num1 * num3\n",
    "flag = 1\n",
    "f = plt.figure(figsize=(12,10))\n",
    "for i in range(num1):\n",
    "    for k in range(num3):\n",
    "        ax0 = f.add_subplot(np.int0(np.ceil(num/4)), 4, flag)\n",
    "        ele = LassoEstimator(l1=l1s[i], l2=0, l3=l3s[k], Gamma=Gamma, D=D, method='cp', solver='SCS', diag_pen=True)\n",
    "        ele.fit(node_features, maxiter=1000)\n",
    "        ele.heatplot(xticklabels=False, yticklabels=False, cbar=True)\n",
    "        ax0.set_title('l1:'+str(int(l1s[i]))+', '+'l3:'+str(int(np.round(l3s[k]))))\n",
    "        flag = flag+1\n",
    "del l1s\n",
    "del l3s"
   ]
  },
  {
   "cell_type": "markdown",
   "metadata": {},
   "source": [
    "#### Ridge"
   ]
  },
  {
   "cell_type": "code",
   "execution_count": null,
   "metadata": {},
   "outputs": [],
   "source": [
    "l2s = np.float32([1, 10, 50, 100])\n",
    "l3s = np.float32([1, 5, 10, 20])\n",
    "num2 = len(l2s)\n",
    "num3 = len(l3s)\n",
    "num = num2 * num3 \n",
    "flag = 1\n",
    "f = plt.figure(figsize=(12,10))\n",
    "for j in range(num2):\n",
    "    for k in range(num3):\n",
    "        ax0 = f.add_subplot(np.int0(np.ceil(num/4)), 4, flag)\n",
    "        ele = RidgeEstimator(l1=0, l2=l2s[j], l3=l3s[k], Gamma=Gamma, D=D, method='cp', solver='SCS', diag_pen=True)\n",
    "        ele.fit(node_features, maxiter=1000)\n",
    "        ele.heatplot(xticklabels=False, yticklabels=False, cbar=True)\n",
    "        ax0.set_title('l2:'+str(l2s[j])+','+'l3:'+str(np.round(l3s[k])))\n",
    "        flag = flag+1\n",
    "del l2s \n",
    "del l3s"
   ]
  },
  {
   "cell_type": "markdown",
   "metadata": {},
   "source": [
    "#### Sparse elastic net"
   ]
  },
  {
   "cell_type": "code",
   "execution_count": null,
   "metadata": {},
   "outputs": [],
   "source": [
    "l1s = np.float32([1, 10, 20, 50])\n",
    "l2s = np.float32([1, 10, 50, 100])\n",
    "l3s = np.float32([1, 5, 10, 20])\n",
    "num1 = len(l1s)\n",
    "num2 = len(l2s)\n",
    "num3 = len(l3s)\n",
    "num = num1 * num2 * num3\n",
    "flag = 1\n",
    "f = plt.figure(figsize=(12,35))\n",
    "for i in range(num1):\n",
    "    for j in range(num2):\n",
    "        for k in range(num3):\n",
    "            ax0 = f.add_subplot(np.int0(np.ceil(num/4)), 4, flag)\n",
    "            ele = sparseElastEstimator(l1=l1s[i], l2=l2s[j], l3=l3s[k], Gamma=Gamma, D=D, method='cp', solver='SCS', diag_pen=True)\n",
    "            ele.fit(node_features, maxiter=1000)\n",
    "            ele.heatplot(xticklabels=False, yticklabels=False, cbar=True)\n",
    "            ax0.set_title('l1:'+str(l1s[i])+','+'l2:'+str(l2s[j])+','+'l3:'+str(np.round(l3s[k])))\n",
    "            flag = flag+1\n",
    "del l1s \n",
    "del l2s \n",
    "del l3s"
   ]
  },
  {
   "cell_type": "markdown",
   "metadata": {},
   "source": [
    "### feature=50"
   ]
  },
  {
   "cell_type": "code",
   "execution_count": null,
   "metadata": {},
   "outputs": [],
   "source": [
    "node_features, group_mean = synthetic_feature_generator(group_label, num_features=50, std=1.0, save=False, root=False) \n",
    "node_features = node_features.numpy()\n",
    "group_mean = group_mean.numpy()"
   ]
  },
  {
   "cell_type": "markdown",
   "metadata": {},
   "source": [
    "#### elastic net"
   ]
  },
  {
   "cell_type": "code",
   "execution_count": null,
   "metadata": {},
   "outputs": [],
   "source": [
    "l1s = np.float32([1, 10, 20, 50])\n",
    "l2s = np.float32([1, 10, 50, 100])\n",
    "l3s = np.float32([1, 5, 10, 20])\n",
    "num1 = len(l1s)\n",
    "num2 = len(l2s)\n",
    "num3 = len(l3s)\n",
    "num = num1 * num2 * num3\n",
    "flag = 1\n",
    "f = plt.figure(figsize=(12,35))\n",
    "for i in range(num1):\n",
    "    for j in range(num2):\n",
    "        for k in range(num3):\n",
    "            ax0 = f.add_subplot(np.int0(np.ceil(num/4)), 4, flag)\n",
    "            ele = ElastEstimator(l1=l1s[i], l2=l2s[j], l3=l3s[k], Gamma=Gamma, D=D, method='cp', solver='SCS', diag_pen=True)\n",
    "            ele.fit(node_features, maxiter=1000)\n",
    "            ele.heatplot(xticklabels=False, yticklabels=False, cbar=True)\n",
    "            ax0.set_title('l1:'+str(int(l1s[i]))+', '+'l2:'+str(int(l2s[j]))+', '+'l3:'+str(int(np.round(l3s[k]))))\n",
    "            flag = flag+1\n",
    "del l1s\n",
    "del l2s\n",
    "del l3s"
   ]
  },
  {
   "cell_type": "markdown",
   "metadata": {},
   "source": [
    "#### corrected elastic net"
   ]
  },
  {
   "cell_type": "code",
   "execution_count": null,
   "metadata": {},
   "outputs": [],
   "source": [
    "l1s = np.float32([1, 10, 20, 50])\n",
    "l2s = np.float32([1, 10, 50, 100])\n",
    "l3s = np.float32([1, 5, 10, 20])\n",
    "num1 = len(l1s)\n",
    "num2 = len(l2s)\n",
    "num3 = len(l3s)\n",
    "num = num1 * num2 * num3\n",
    "flag = 1\n",
    "f = plt.figure(figsize=(12,35))\n",
    "for i in range(num1):\n",
    "    for j in range(num2):\n",
    "        for k in range(num3):\n",
    "            ax0 = f.add_subplot(np.int0(np.ceil(num/4)), 4, flag)\n",
    "            ele = correctedElastEstimator(l1=l1s[i], l2=l2s[j], l3=l3s[k], Gamma=Gamma, D=D, method='cp', solver='SCS', diag_pen=True)\n",
    "            ele.fit(node_features, maxiter=1000)\n",
    "            ele.heatplot(xticklabels=False, yticklabels=False, cbar=True)\n",
    "            ax0.set_title('l1:'+str(int(l1s[i]))+', '+'l2:'+str(int(l2s[j]))+', '+'l3:'+str(int(np.round(l3s[k]))))\n",
    "            flag = flag+1\n",
    "del l1s\n",
    "del l2s\n",
    "del l3s"
   ]
  },
  {
   "cell_type": "markdown",
   "metadata": {},
   "source": [
    "#### Lasso"
   ]
  },
  {
   "cell_type": "code",
   "execution_count": null,
   "metadata": {},
   "outputs": [],
   "source": [
    "l1s = np.float32([1, 10, 20, 50])\n",
    "l3s = np.float32([1, 5, 10, 20])\n",
    "num1 = len(l1s)\n",
    "num3 = len(l3s)\n",
    "num = num1 * num3\n",
    "flag = 1\n",
    "f = plt.figure(figsize=(12,10))\n",
    "for i in range(num1):\n",
    "    for k in range(num3):\n",
    "        ax0 = f.add_subplot(np.int0(np.ceil(num/4)), 4, flag)\n",
    "        ele = LassoEstimator(l1=l1s[i], l2=0, l3=l3s[k], Gamma=Gamma, D=D, method='cp', solver='SCS', diag_pen=True)\n",
    "        ele.fit(node_features, maxiter=1000)\n",
    "        ele.heatplot(xticklabels=False, yticklabels=False, cbar=True)\n",
    "        ax0.set_title('l1:'+str(int(l1s[i]))+', '+'l3:'+str(int(np.round(l3s[k]))))\n",
    "        flag = flag+1\n",
    "del l1s\n",
    "del l3s"
   ]
  },
  {
   "cell_type": "markdown",
   "metadata": {},
   "source": [
    "#### Ridge"
   ]
  },
  {
   "cell_type": "code",
   "execution_count": null,
   "metadata": {},
   "outputs": [],
   "source": [
    "l2s = np.float32([1, 10, 50, 100])\n",
    "l3s = np.float32([1, 5, 10, 20])\n",
    "num2 = len(l2s)\n",
    "num3 = len(l3s)\n",
    "num = num2 * num3 \n",
    "flag = 1\n",
    "f = plt.figure(figsize=(12,10))\n",
    "for j in range(num2):\n",
    "    for k in range(num3):\n",
    "        ax0 = f.add_subplot(np.int0(np.ceil(num/4)), 4, flag)\n",
    "        ele = RidgeEstimator(l1=0, l2=l2s[j], l3=l3s[k], Gamma=Gamma, D=D, method='cp', solver='SCS', diag_pen=True)\n",
    "        ele.fit(node_features, maxiter=1000)\n",
    "        ele.heatplot(xticklabels=False, yticklabels=False, cbar=True)\n",
    "        ax0.set_title('l2:'+str(l2s[j])+','+'l3:'+str(np.round(l3s[k])))\n",
    "        flag = flag+1\n",
    "del l2s \n",
    "del l3s"
   ]
  },
  {
   "cell_type": "markdown",
   "metadata": {},
   "source": [
    "#### Sparse elastic net"
   ]
  },
  {
   "cell_type": "code",
   "execution_count": null,
   "metadata": {},
   "outputs": [],
   "source": [
    "l1s = np.float32([1, 10, 20, 50])\n",
    "l2s = np.float32([1, 10, 50, 100])\n",
    "l3s = np.float32([1, 5, 10, 20])\n",
    "num1 = len(l1s)\n",
    "num2 = len(l2s)\n",
    "num3 = len(l3s)\n",
    "num = num1 * num2 * num3\n",
    "flag = 1\n",
    "f = plt.figure(figsize=(12,35))\n",
    "for i in range(num1):\n",
    "    for j in range(num2):\n",
    "        for k in range(num3):\n",
    "            ax0 = f.add_subplot(np.int0(np.ceil(num/4)), 4, flag)\n",
    "            ele = sparseElastEstimator(l1=l1s[i], l2=l2s[j], l3=l3s[k], Gamma=Gamma, D=D, method='cp', solver='SCS', diag_pen=True)\n",
    "            ele.fit(node_features, maxiter=1000)\n",
    "            ele.heatplot(xticklabels=False, yticklabels=False, cbar=True)\n",
    "            ax0.set_title('l1:'+str(l1s[i])+','+'l2:'+str(l2s[j])+','+'l3:'+str(np.round(l3s[k])))\n",
    "            flag = flag+1\n",
    "del l1s \n",
    "del l2s \n",
    "del l3s"
   ]
  }
 ],
 "metadata": {
  "kernelspec": {
   "display_name": "Python 3.9.7 ('base')",
   "language": "python",
   "name": "python3"
  },
  "language_info": {
   "codemirror_mode": {
    "name": "ipython",
    "version": 3
   },
   "file_extension": ".py",
   "mimetype": "text/x-python",
   "name": "python",
   "nbconvert_exporter": "python",
   "pygments_lexer": "ipython3",
   "version": "3.9.7"
  },
  "orig_nbformat": 4,
  "vscode": {
   "interpreter": {
    "hash": "070abceb24e738bbd6634274827241c1c175321cca14cfcc03bf4e6ff7b889ca"
   }
  }
 },
 "nbformat": 4,
 "nbformat_minor": 2
}
