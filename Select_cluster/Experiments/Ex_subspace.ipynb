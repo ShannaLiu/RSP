{
 "cells": [
  {
   "cell_type": "code",
   "execution_count": 2,
   "metadata": {},
   "outputs": [],
   "source": [
    "sys.path.append('/Users/liushuhan/Documents/AL_GNN/Experiments/RSP/Sythentic_graph')\n",
    "sys.path.append('../')\n",
    "from Generator import *\n",
    "from util import *\n",
    "from loss import *\n",
    "from Estimator import *\n",
    "from cluster import *\n",
    "import matplotlib.pyplot as plt"
   ]
  },
  {
   "cell_type": "code",
   "execution_count": 27,
   "metadata": {},
   "outputs": [],
   "source": [
    "group_label = [0]*5 + [1]*5\n",
    "U, latent_features, node_features = sub_noisy_feature_generator(group_label, num_features=5, num_latent_features=3, standard_basis=False)"
   ]
  },
  {
   "cell_type": "code",
   "execution_count": 29,
   "metadata": {},
   "outputs": [
    {
     "data": {
      "text/plain": [
       "array([[-1.61573574,  0.71616355, -0.56957359],\n",
       "       [-0.24513048, -0.67355546, -0.22860921],\n",
       "       [ 1.48729034,  0.49428356, -0.41125193],\n",
       "       [-1.21955879,  0.51802413, -1.01659806],\n",
       "       [-0.3700487 , -1.03601812,  1.31336556]])"
      ]
     },
     "execution_count": 29,
     "metadata": {},
     "output_type": "execute_result"
    }
   ],
   "source": [
    "U"
   ]
  },
  {
   "cell_type": "code",
   "execution_count": 30,
   "metadata": {},
   "outputs": [
    {
     "data": {
      "text/plain": [
       "array([[0.59, 0.72, 0.24, 0.17, 0.37, 0.  , 0.  , 0.  , 0.  , 0.  ],\n",
       "       [0.  , 0.  , 0.  , 0.  , 0.  , 0.51, 0.47, 0.55, 0.56, 0.34],\n",
       "       [0.  , 0.  , 0.  , 0.  , 0.  , 0.54, 0.29, 0.09, 0.87, 0.13]])"
      ]
     },
     "execution_count": 30,
     "metadata": {},
     "output_type": "execute_result"
    }
   ],
   "source": [
    "np.round(latent_features, 2)"
   ]
  },
  {
   "cell_type": "code",
   "execution_count": 31,
   "metadata": {},
   "outputs": [
    {
     "data": {
      "text/plain": [
       "array([[-1.11615713, -1.44458914,  1.58988581, -1.89336386, -0.0671487 ],\n",
       "       [ 0.35591224,  0.87503319,  3.68586397, -1.51066777,  0.98119564],\n",
       "       [-0.93871655, -0.94685192,  0.77559307,  0.40459225, -1.88512368],\n",
       "       [ 1.40099513, -0.93049335,  2.53071365, -0.03239337, -1.13403765],\n",
       "       [ 0.40643746, -0.71758456,  1.48427009, -1.04733715, -1.80584896],\n",
       "       [ 1.2871916 ,  0.41630526, -2.75307087, -1.08169027,  1.50056   ],\n",
       "       [ 0.49031092,  0.07780657, -0.34083836, -0.2341491 ,  2.88490176],\n",
       "       [ 1.01339137, -0.45600646,  0.77849233,  0.20665195,  0.58943399],\n",
       "       [ 0.62037278, -0.40316732,  0.19584512, -1.44457231,  0.49609382],\n",
       "       [ 1.67742976, -1.97241577, -0.89402891,  0.5421574 , -0.30597164]])"
      ]
     },
     "execution_count": 31,
     "metadata": {},
     "output_type": "execute_result"
    }
   ],
   "source": [
    "node_features"
   ]
  },
  {
   "cell_type": "code",
   "execution_count": null,
   "metadata": {},
   "outputs": [],
   "source": []
  }
 ],
 "metadata": {
  "kernelspec": {
   "display_name": "Python 3.9.7 ('base')",
   "language": "python",
   "name": "python3"
  },
  "language_info": {
   "codemirror_mode": {
    "name": "ipython",
    "version": 3
   },
   "file_extension": ".py",
   "mimetype": "text/x-python",
   "name": "python",
   "nbconvert_exporter": "python",
   "pygments_lexer": "ipython3",
   "version": "3.9.7"
  },
  "orig_nbformat": 4,
  "vscode": {
   "interpreter": {
    "hash": "070abceb24e738bbd6634274827241c1c175321cca14cfcc03bf4e6ff7b889ca"
   }
  }
 },
 "nbformat": 4,
 "nbformat_minor": 2
}
